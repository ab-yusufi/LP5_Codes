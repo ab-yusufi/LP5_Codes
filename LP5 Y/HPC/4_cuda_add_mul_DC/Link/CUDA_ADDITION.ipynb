{
  "nbformat": 4,
  "nbformat_minor": 0,
  "metadata": {
    "colab": {
      "provenance": [],
      "gpuType": "T4"
    },
    "kernelspec": {
      "name": "python3",
      "display_name": "Python 3"
    },
    "language_info": {
      "name": "python"
    },
    "accelerator": "GPU",
    "gpuClass": "standard"
  },
  "cells": [
    {
      "cell_type": "code",
      "execution_count": 1,
      "metadata": {
        "colab": {
          "base_uri": "https://localhost:8080/"
        },
        "id": "Ragv9OnCxtbx",
        "outputId": "ffef5e9f-c500-483f-de4d-6931a10b8fa2"
      },
      "outputs": [
        {
          "output_type": "stream",
          "name": "stdout",
          "text": [
            "nvcc: NVIDIA (R) Cuda compiler driver\n",
            "Copyright (c) 2005-2022 NVIDIA Corporation\n",
            "Built on Wed_Sep_21_10:33:58_PDT_2022\n",
            "Cuda compilation tools, release 11.8, V11.8.89\n",
            "Build cuda_11.8.r11.8/compiler.31833905_0\n"
          ]
        }
      ],
      "source": [
        "!/usr/local/cuda/bin/nvcc --version"
      ]
    },
    {
      "cell_type": "code",
      "source": [
        "!pip install git+https://github.com/andreinechaev/nvcc4jupyter.git"
      ],
      "metadata": {
        "colab": {
          "base_uri": "https://localhost:8080/"
        },
        "id": "w6grCF6PxweG",
        "outputId": "7e7958c7-16e3-4154-8463-ca80ca0e1a2f"
      },
      "execution_count": 2,
      "outputs": [
        {
          "output_type": "stream",
          "name": "stdout",
          "text": [
            "Looking in indexes: https://pypi.org/simple, https://us-python.pkg.dev/colab-wheels/public/simple/\n",
            "Collecting git+https://github.com/andreinechaev/nvcc4jupyter.git\n",
            "  Cloning https://github.com/andreinechaev/nvcc4jupyter.git to /tmp/pip-req-build-9ynobgs6\n",
            "  Running command git clone --filter=blob:none --quiet https://github.com/andreinechaev/nvcc4jupyter.git /tmp/pip-req-build-9ynobgs6\n",
            "  Resolved https://github.com/andreinechaev/nvcc4jupyter.git to commit aac710a35f52bb78ab34d2e52517237941399eff\n",
            "  Preparing metadata (setup.py) ... \u001b[?25l\u001b[?25hdone\n",
            "Building wheels for collected packages: NVCCPlugin\n",
            "  Building wheel for NVCCPlugin (setup.py) ... \u001b[?25l\u001b[?25hdone\n",
            "  Created wheel for NVCCPlugin: filename=NVCCPlugin-0.0.2-py3-none-any.whl size=4287 sha256=bfcbf7396777bb9a64fb66fe85007544dfbf9b8c45e5ebc7b16c1933cd28924d\n",
            "  Stored in directory: /tmp/pip-ephem-wheel-cache-p9es8nhl/wheels/a8/b9/18/23f8ef71ceb0f63297dd1903aedd067e6243a68ea756d6feea\n",
            "Successfully built NVCCPlugin\n",
            "Installing collected packages: NVCCPlugin\n",
            "Successfully installed NVCCPlugin-0.0.2\n"
          ]
        }
      ]
    },
    {
      "cell_type": "code",
      "source": [
        "%load_ext nvcc_plugin"
      ],
      "metadata": {
        "colab": {
          "base_uri": "https://localhost:8080/"
        },
        "id": "0PMWUMMwx9nc",
        "outputId": "099c0e8f-4cff-43e1-97bd-998b8ea29016"
      },
      "execution_count": 3,
      "outputs": [
        {
          "output_type": "stream",
          "name": "stdout",
          "text": [
            "created output directory at /content/src\n",
            "Out bin /content/result.out\n"
          ]
        }
      ]
    },
    {
      "cell_type": "code",
      "source": [
        "%%cu\n",
        "#include <cstdlib>\n",
        "#include <iostream>\n",
        "\n",
        "#define checkCudaErrors(call)                                                                 \\\n",
        "    do {                                                                                      \\\n",
        "        cudaError_t err = call;                                                               \\\n",
        "        if (err != cudaSuccess) {                                                             \\\n",
        "            printf(\"CUDA error at %s %d: %s\\n\", __FILE__, __LINE__, cudaGetErrorString(err)); \\\n",
        "            exit(EXIT_FAILURE);                                                               \\\n",
        "        }                                                                                     \\\n",
        "    } while (0)\n",
        "\n",
        "using namespace std;\n",
        "\n",
        "// VectorAdd parallel function\n",
        "__global__ void vectorAdd(int *a, int *b, int *result, int n) {\n",
        "    int tid = threadIdx.x + blockIdx.x * blockDim.x;\n",
        "    if (tid < n) {\n",
        "        result[tid] = a[tid] + b[tid];\n",
        "    }\n",
        "}\n",
        "\n",
        "int main() {\n",
        "    int *a, *b, *c;\n",
        "    int *a_dev, *b_dev, *c_dev;\n",
        "    int n = 1 << 4;\n",
        "\n",
        "    a = new int[n];\n",
        "    b = new int[n];\n",
        "    c = new int[n];\n",
        "    int *d = new int[n];\n",
        "    int size = n * sizeof(int);\n",
        "    checkCudaErrors(cudaMalloc(&a_dev, size));\n",
        "    checkCudaErrors(cudaMalloc(&b_dev, size));\n",
        "    checkCudaErrors(cudaMalloc(&c_dev, size));\n",
        "\n",
        "    // Array initialization..You can use Randon function to assign values\n",
        "    for (int i = 0; i < n; i++) {\n",
        "        a[i] = rand() % 1000;\n",
        "        b[i] = rand() % 1000;\n",
        "        d[i] = a[i] + b[i];  // calculating serial addition\n",
        "    }\n",
        "    cout << \"Given array A is =>\\n\";\n",
        "    for (int i = 0; i < n; i++) {\n",
        "        cout << a[i] << \", \";\n",
        "    }\n",
        "    cout << \"\\n\\n\";\n",
        "\n",
        "    cout << \"Given array B is =>\\n\";\n",
        "    for (int i = 0; i < n; i++) {\n",
        "        cout << b[i] << \", \";\n",
        "    }\n",
        "    cout << \"\\n\\n\";\n",
        "\n",
        "    cudaEvent_t start, end;\n",
        "\n",
        "    checkCudaErrors(cudaEventCreate(&start));\n",
        "    checkCudaErrors(cudaEventCreate(&end));\n",
        "\n",
        "    checkCudaErrors(cudaMemcpy(a_dev, a, size, cudaMemcpyHostToDevice));\n",
        "    checkCudaErrors(cudaMemcpy(b_dev, b, size, cudaMemcpyHostToDevice));\n",
        "    int threads = 1024;\n",
        "    int blocks = (n + threads - 1) / threads;\n",
        "    checkCudaErrors(cudaEventRecord(start));\n",
        "\n",
        "    // Parallel addition program\n",
        "    vectorAdd<<<blocks, threads>>>(a_dev, b_dev, c_dev, n);\n",
        "\n",
        "    checkCudaErrors(cudaEventRecord(end));\n",
        "    checkCudaErrors(cudaEventSynchronize(end));\n",
        "\n",
        "    float time = 0.0;\n",
        "    checkCudaErrors(cudaEventElapsedTime(&time, start, end));\n",
        "\n",
        "    checkCudaErrors(cudaMemcpy(c, c_dev, size, cudaMemcpyDeviceToHost));\n",
        "\n",
        "    // Calculate the error term.\n",
        "\n",
        "    cout << \"CPU sum is =>\\n\";\n",
        "    for (int i = 0; i < n; i++) {\n",
        "        cout << d[i] << \", \";\n",
        "    }\n",
        "    cout << \"\\n\\n\";\n",
        "\n",
        "    cout << \"GPU sum is =>\\n\";\n",
        "    for (int i = 0; i < n; i++) {\n",
        "        cout << c[i] << \", \";\n",
        "    }\n",
        "    cout << \"\\n\\n\";\n",
        "\n",
        "    int error = 0;\n",
        "    for (int i = 0; i < n; i++) {\n",
        "        error += d[i] - c[i];\n",
        "        if (0 != (d[i] - c[i])) {\n",
        "            cout << \"Error at (\" << i << \") => GPU: \" << c[i] << \", CPU: \" << d[i] << \"\\n\";\n",
        "        }\n",
        "    }\n",
        "\n",
        "    cout << \"\\nError : \" << error;\n",
        "    cout << \"\\nTime Elapsed: \" << time;\n",
        "\n",
        "    return 0;\n",
        "}"
      ],
      "metadata": {
        "colab": {
          "base_uri": "https://localhost:8080/"
        },
        "id": "G5c0h0Wzx_wL",
        "outputId": "3e7dc6c1-2a23-4d49-bc39-8ac576bcdc8d"
      },
      "execution_count": 6,
      "outputs": [
        {
          "output_type": "stream",
          "name": "stdout",
          "text": [
            "Given array A is =>\n",
            "383, 777, 793, 386, 649, 362, 690, 763, 540, 172, 211, 567, 782, 862, 67, 929, \n",
            "\n",
            "Given array B is =>\n",
            "886, 915, 335, 492, 421, 27, 59, 926, 426, 736, 368, 429, 530, 123, 135, 802, \n",
            "\n",
            "CPU sum is =>\n",
            "1269, 1692, 1128, 878, 1070, 389, 749, 1689, 966, 908, 579, 996, 1312, 985, 202, 1731, \n",
            "\n",
            "GPU sum is =>\n",
            "1269, 1692, 1128, 878, 1070, 389, 749, 1689, 966, 908, 579, 996, 1312, 985, 202, 1731, \n",
            "\n",
            "\n",
            "Error : 0\n",
            "Time Elapsed: 0.022464\n"
          ]
        }
      ]
    },
    {
      "cell_type": "code",
      "source": [],
      "metadata": {
        "id": "iVQDX3URyDgD"
      },
      "execution_count": null,
      "outputs": []
    }
  ]
}