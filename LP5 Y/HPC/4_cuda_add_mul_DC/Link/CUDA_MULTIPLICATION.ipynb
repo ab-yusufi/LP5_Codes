{
  "nbformat": 4,
  "nbformat_minor": 0,
  "metadata": {
    "colab": {
      "provenance": [],
      "gpuType": "T4"
    },
    "kernelspec": {
      "name": "python3",
      "display_name": "Python 3"
    },
    "language_info": {
      "name": "python"
    },
    "accelerator": "GPU",
    "gpuClass": "standard"
  },
  "cells": [
    {
      "cell_type": "code",
      "source": [
        "!/usr/local/cuda/bin/nvcc --version"
      ],
      "metadata": {
        "colab": {
          "base_uri": "https://localhost:8080/"
        },
        "id": "aLFu5rnAwtZN",
        "outputId": "d9971e31-4280-43de-c855-f7dca2455a33"
      },
      "execution_count": 1,
      "outputs": [
        {
          "output_type": "stream",
          "name": "stdout",
          "text": [
            "nvcc: NVIDIA (R) Cuda compiler driver\n",
            "Copyright (c) 2005-2022 NVIDIA Corporation\n",
            "Built on Wed_Sep_21_10:33:58_PDT_2022\n",
            "Cuda compilation tools, release 11.8, V11.8.89\n",
            "Build cuda_11.8.r11.8/compiler.31833905_0\n"
          ]
        }
      ]
    },
    {
      "cell_type": "code",
      "source": [
        "!pip install git+https://github.com/andreinechaev/nvcc4jupyter.git"
      ],
      "metadata": {
        "colab": {
          "base_uri": "https://localhost:8080/"
        },
        "id": "srLvDRwHxIKw",
        "outputId": "50cb4b75-2f3e-48c4-dc00-2e73aab81c7a"
      },
      "execution_count": 2,
      "outputs": [
        {
          "output_type": "stream",
          "name": "stdout",
          "text": [
            "Looking in indexes: https://pypi.org/simple, https://us-python.pkg.dev/colab-wheels/public/simple/\n",
            "Collecting git+https://github.com/andreinechaev/nvcc4jupyter.git\n",
            "  Cloning https://github.com/andreinechaev/nvcc4jupyter.git to /tmp/pip-req-build-9l72ny_1\n",
            "  Running command git clone --filter=blob:none --quiet https://github.com/andreinechaev/nvcc4jupyter.git /tmp/pip-req-build-9l72ny_1\n",
            "  Resolved https://github.com/andreinechaev/nvcc4jupyter.git to commit aac710a35f52bb78ab34d2e52517237941399eff\n",
            "  Preparing metadata (setup.py) ... \u001b[?25l\u001b[?25hdone\n",
            "Building wheels for collected packages: NVCCPlugin\n",
            "  Building wheel for NVCCPlugin (setup.py) ... \u001b[?25l\u001b[?25hdone\n",
            "  Created wheel for NVCCPlugin: filename=NVCCPlugin-0.0.2-py3-none-any.whl size=4287 sha256=cae340ef42cd07a4607a9c4ea2a13862836edc327700f169e77923969317614b\n",
            "  Stored in directory: /tmp/pip-ephem-wheel-cache-cdomxaiu/wheels/a8/b9/18/23f8ef71ceb0f63297dd1903aedd067e6243a68ea756d6feea\n",
            "Successfully built NVCCPlugin\n",
            "Installing collected packages: NVCCPlugin\n",
            "Successfully installed NVCCPlugin-0.0.2\n"
          ]
        }
      ]
    },
    {
      "cell_type": "code",
      "source": [
        "%load_ext nvcc_plugin"
      ],
      "metadata": {
        "colab": {
          "base_uri": "https://localhost:8080/"
        },
        "id": "d2Ua2hrfw4PH",
        "outputId": "78d5ef99-8462-4108-f22e-2846d04c45a9"
      },
      "execution_count": 3,
      "outputs": [
        {
          "output_type": "stream",
          "name": "stdout",
          "text": [
            "created output directory at /content/src\n",
            "Out bin /content/result.out\n"
          ]
        }
      ]
    },
    {
      "cell_type": "code",
      "execution_count": 4,
      "metadata": {
        "colab": {
          "base_uri": "https://localhost:8080/"
        },
        "id": "iCRweYNlwKPE",
        "outputId": "9ecf254e-9d72-4589-a135-85a806314851"
      },
      "outputs": [
        {
          "output_type": "stream",
          "name": "stdout",
          "text": [
            "Given matrix A is =>\n",
            "3 7 3 6 9 2 0 3 0 2 \n",
            "1 7 2 2 7 9 2 9 3 1 \n",
            "9 1 4 8 5 3 1 6 2 6 \n",
            "5 4 6 6 3 4 2 4 4 3 \n",
            "7 6 8 3 4 2 6 9 6 4 \n",
            "5 4 7 7 7 2 1 6 5 4 \n",
            "0 1 7 1 9 7 7 6 6 9 \n",
            "8 2 3 0 8 0 6 8 6 1 \n",
            "9 4 1 3 4 4 7 3 7 9 \n",
            "2 7 5 4 8 9 5 8 3 8 \n",
            "\n",
            "Given matrix B is =>\n",
            "6 5 5 2 1 7 9 6 6 6 \n",
            "8 9 0 3 5 2 8 7 6 2 \n",
            "3 9 7 4 0 6 0 3 0 1 \n",
            "5 7 5 9 7 5 5 7 4 0 \n",
            "8 8 4 1 9 0 8 2 6 9 \n",
            "0 8 1 2 2 6 0 1 9 9 \n",
            "9 7 1 5 7 6 3 5 3 4 \n",
            "1 9 9 8 5 9 3 5 1 5 \n",
            "8 8 0 0 4 4 6 1 5 6 \n",
            "1 8 7 1 5 7 3 8 1 9 \n",
            "\n",
            "CPU product is =>\n",
            "190 278 145 132 190 136 200 169 161 167 \n",
            "186 355 156 157 207 209 185 164 210 246 \n",
            "191 335 233 179 196 257 220 227 174 232 \n",
            "191 319 172 156 167 218 182 186 165 186 \n",
            "276 433 239 205 229 305 251 252 193 257 \n",
            "233 378 222 181 218 240 231 216 180 226 \n",
            "232 430 221 155 255 274 187 203 193 328 \n",
            "248 319 178 137 201 217 233 171 165 236 \n",
            "267 379 184 141 231 276 259 247 218 301 \n",
            "252 477 239 204 282 302 239 261 245 334 \n",
            "\n",
            "GPU product is =>\n",
            "190 278 145 132 190 136 200 169 161 167 \n",
            "186 355 156 157 207 209 185 164 210 246 \n",
            "191 335 233 179 196 257 220 227 174 232 \n",
            "191 319 172 156 167 218 182 186 165 186 \n",
            "276 433 239 205 229 305 251 252 193 257 \n",
            "233 378 222 181 218 240 231 216 180 226 \n",
            "232 430 221 155 255 274 187 203 193 328 \n",
            "248 319 178 137 201 217 233 171 165 236 \n",
            "267 379 184 141 231 276 259 247 218 301 \n",
            "252 477 239 204 282 302 239 261 245 334 \n",
            "\n",
            "\n",
            "Error : 0\n",
            "Time Elapsed: 0.026944\n"
          ]
        }
      ],
      "source": [
        "%%cu\n",
        "#include <cmath>\n",
        "#include <cstdlib>\n",
        "#include <iostream>\n",
        "\n",
        "#define checkCudaErrors(call)                                                                 \\\n",
        "    do {                                                                                      \\\n",
        "        cudaError_t err = call;                                                               \\\n",
        "        if (err != cudaSuccess) {                                                             \\\n",
        "            printf(\"CUDA error at %s %d: %s\\n\", __FILE__, __LINE__, cudaGetErrorString(err)); \\\n",
        "            exit(EXIT_FAILURE);                                                               \\\n",
        "        }                                                                                     \\\n",
        "    } while (0)\n",
        "\n",
        "using namespace std;\n",
        "\n",
        "// Matrix multiplication Cuda\n",
        "__global__ void matrixMultiplication(int *a, int *b, int *c, int n) {\n",
        "    int row = threadIdx.y + blockDim.y * blockIdx.y;\n",
        "    int col = threadIdx.x + blockDim.x * blockIdx.x;\n",
        "    int sum = 0;\n",
        "\n",
        "    if (row < n && col < n)\n",
        "        for (int j = 0; j < n; j++) {\n",
        "            sum = sum + a[row * n + j] * b[j * n + col];\n",
        "        }\n",
        "\n",
        "    c[n * row + col] = sum;\n",
        "}\n",
        "\n",
        "int main() {\n",
        "    int *a, *b, *c;\n",
        "    int *a_dev, *b_dev, *c_dev;\n",
        "    int n = 10;\n",
        "\n",
        "    a = new int[n * n];\n",
        "    b = new int[n * n];\n",
        "    c = new int[n * n];\n",
        "    int *d = new int[n * n];\n",
        "    int size = n * n * sizeof(int);\n",
        "    checkCudaErrors(cudaMalloc(&a_dev, size));\n",
        "    checkCudaErrors(cudaMalloc(&b_dev, size));\n",
        "    checkCudaErrors(cudaMalloc(&c_dev, size));\n",
        "\n",
        "    // Array initialization\n",
        "    for (int i = 0; i < n * n; i++) {\n",
        "        a[i] = rand() % 10;\n",
        "        b[i] = rand() % 10;\n",
        "    }\n",
        "\n",
        "    cout << \"Given matrix A is =>\\n\";\n",
        "    for (int row = 0; row < n; row++) {\n",
        "        for (int col = 0; col < n; col++) {\n",
        "            cout << a[row * n + col] << \" \";\n",
        "        }\n",
        "        cout << \"\\n\";\n",
        "    }\n",
        "    cout << \"\\n\";\n",
        "\n",
        "    cout << \"Given matrix B is =>\\n\";\n",
        "    for (int row = 0; row < n; row++) {\n",
        "        for (int col = 0; col < n; col++) {\n",
        "            cout << b[row * n + col] << \" \";\n",
        "        }\n",
        "        cout << \"\\n\";\n",
        "    }\n",
        "    cout << \"\\n\";\n",
        "\n",
        "    cudaEvent_t start, end;\n",
        "\n",
        "    checkCudaErrors(cudaEventCreate(&start));\n",
        "    checkCudaErrors(cudaEventCreate(&end));\n",
        "\n",
        "    checkCudaErrors(cudaMemcpy(a_dev, a, size, cudaMemcpyHostToDevice));\n",
        "    checkCudaErrors(cudaMemcpy(b_dev, b, size, cudaMemcpyHostToDevice));\n",
        "\n",
        "    dim3 threadsPerBlock(n, n);\n",
        "    dim3 blocksPerGrid(1, 1);\n",
        "\n",
        "    // GPU Multiplication\n",
        "    checkCudaErrors(cudaEventRecord(start));\n",
        "    matrixMultiplication<<<blocksPerGrid, threadsPerBlock>>>(a_dev, b_dev, c_dev, n);\n",
        "\n",
        "    checkCudaErrors(cudaEventRecord(end));\n",
        "    checkCudaErrors(cudaEventSynchronize(end));\n",
        "\n",
        "    float time = 0.0;\n",
        "    checkCudaErrors(cudaEventElapsedTime(&time, start, end));\n",
        "\n",
        "    checkCudaErrors(cudaMemcpy(c, c_dev, size, cudaMemcpyDeviceToHost));\n",
        "\n",
        "    // CPU matrix multiplication\n",
        "    int sum = 0;\n",
        "    for (int row = 0; row < n; row++) {\n",
        "        for (int col = 0; col < n; col++) {\n",
        "            sum = 0;\n",
        "            for (int k = 0; k < n; k++) sum = sum + a[row * n + k] * b[k * n + col];\n",
        "            d[row * n + col] = sum;\n",
        "        }\n",
        "    }\n",
        "\n",
        "    cout << \"CPU product is =>\\n\";\n",
        "    for (int row = 0; row < n; row++) {\n",
        "        for (int col = 0; col < n; col++) {\n",
        "            cout << d[row * n + col] << \" \";\n",
        "        }\n",
        "        cout << \"\\n\";\n",
        "    }\n",
        "    cout << \"\\n\";\n",
        "\n",
        "    cout << \"GPU product is =>\\n\";\n",
        "    for (int row = 0; row < n; row++) {\n",
        "        for (int col = 0; col < n; col++) {\n",
        "            cout << c[row * n + col] << \" \";\n",
        "        }\n",
        "        cout << \"\\n\";\n",
        "    }\n",
        "    cout << \"\\n\";\n",
        "\n",
        "    int error = 0;\n",
        "    int _c, _d;\n",
        "    for (int row = 0; row < n; row++) {\n",
        "        for (int col = 0; col < n; col++) {\n",
        "            _c = c[row * n + col];\n",
        "            _d = d[row * n + col];\n",
        "            error += _c - _d;\n",
        "            if (0 != (_c - _d)) {\n",
        "                cout << \"Error at (\" << row << \", \" << col << \") => GPU: \" << _c << \", CPU: \" << _d\n",
        "                     << \"\\n\";\n",
        "            }\n",
        "        }\n",
        "    }\n",
        "    cout << \"\\n\";\n",
        "\n",
        "    cout << \"Error : \" << error;\n",
        "    cout << \"\\nTime Elapsed: \" << time;\n",
        "\n",
        "    return 0;\n",
        "}"
      ]
    },
    {
      "cell_type": "code",
      "source": [],
      "metadata": {
        "id": "IWFSh18hxA6D"
      },
      "execution_count": null,
      "outputs": []
    }
  ]
}